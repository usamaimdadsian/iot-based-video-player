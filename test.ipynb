{
 "cells": [
  {
   "cell_type": "code",
   "execution_count": 1,
   "metadata": {},
   "outputs": [],
   "source": [
    "import os"
   ]
  },
  {
   "cell_type": "code",
   "execution_count": 2,
   "metadata": {},
   "outputs": [],
   "source": [
    "parent=\"data\"\n",
    "vid_addrs= os.listdir(parent)"
   ]
  },
  {
   "cell_type": "code",
   "execution_count": 4,
   "metadata": {},
   "outputs": [
    {
     "name": "stdout",
     "output_type": "stream",
     "text": [
      "data/01.mp4\n",
      "data/03.mp4\n",
      "data/02.mp4\n"
     ]
    }
   ],
   "source": [
    "caps=[]\n",
    "for vid_addr in vid_addrs:\n",
    "    addr = os.path.join(parent,vid_addr)\n",
    "    print(addr)"
   ]
  }
 ],
 "metadata": {
  "interpreter": {
   "hash": "5b71ec38cc02d8379c0abbb9c66e240f376ead6ca2e8dc11bcff675c2c07caf9"
  },
  "kernelspec": {
   "display_name": "Python 3.9.7 64-bit ('39_env': venv)",
   "language": "python",
   "name": "python3"
  },
  "language_info": {
   "codemirror_mode": {
    "name": "ipython",
    "version": 3
   },
   "file_extension": ".py",
   "mimetype": "text/x-python",
   "name": "python",
   "nbconvert_exporter": "python",
   "pygments_lexer": "ipython3",
   "version": "3.9.7"
  },
  "orig_nbformat": 4
 },
 "nbformat": 4,
 "nbformat_minor": 2
}
